{
  "nbformat": 4,
  "nbformat_minor": 0,
  "metadata": {
    "colab": {
      "provenance": [],
      "toc_visible": true,
      "machine_shape": "hm",
      "gpuType": "A100"
    },
    "kernelspec": {
      "name": "python3",
      "display_name": "Python 3"
    },
    "language_info": {
      "name": "python"
    },
    "accelerator": "GPU"
  },
  "cells": [
    {
      "cell_type": "markdown",
      "source": [
        "# ICMR2024 - CheapFake Detection source code"
      ],
      "metadata": {
        "id": "nkTbpvdBd55p"
      }
    },
    {
      "cell_type": "markdown",
      "source": [
        "# **Note:** Set input folder path\n",
        "\n",
        "INPUT_FOLDER should has structure as same as requirement of organizer, contain \"test.json\" as follow:\n",
        "\n",
        "INPUT_FOLDER\\\n",
        "├── test.json \\\n",
        "├── public_test_mmsys \\\n",
        "│ ├── 0.jpg \\\n",
        "│ ├── 1.png \\\n",
        "│ ├── 2.jpg \\\n",
        "│ ├── ...jpg\n",
        "\n",
        "(With \"public_test_mmsys/0.jpg\" is an \"img_local_path\" in \"test.json\" for example.)"
      ],
      "metadata": {
        "id": "OvOHv4HVeI2e"
      }
    },
    {
      "cell_type": "code",
      "source": [
        "%env INPUT_FOLDER=/content/public_test_icmr_2024"
      ],
      "metadata": {
        "id": "TgziTHTGffNp"
      },
      "execution_count": null,
      "outputs": []
    },
    {
      "cell_type": "markdown",
      "source": [
        "# Preparation"
      ],
      "metadata": {
        "id": "AucvSNhteOKk"
      }
    },
    {
      "cell_type": "code",
      "execution_count": 7,
      "metadata": {
        "colab": {
          "base_uri": "https://localhost:8080/"
        },
        "id": "_zHHnjGSa5Iq",
        "outputId": "25ac0c9d-bf3c-4f06-d160-a49c32560259"
      },
      "outputs": [
        {
          "output_type": "stream",
          "name": "stdout",
          "text": [
            "Cloning into 'icmr2024'...\n",
            "remote: Enumerating objects: 66, done.\u001b[K\n",
            "remote: Counting objects: 100% (66/66), done.\u001b[K\n",
            "remote: Compressing objects: 100% (53/53), done.\u001b[K\n",
            "remote: Total 66 (delta 2), reused 63 (delta 2), pack-reused 0\u001b[K\n",
            "Receiving objects: 100% (66/66), 9.08 MiB | 26.64 MiB/s, done.\n",
            "Resolving deltas: 100% (2/2), done.\n"
          ]
        }
      ],
      "source": [
        "#@title Pull source code\n",
        "\n",
        "!git clone https://github.com/twelcone/icmr2024.git"
      ]
    },
    {
      "cell_type": "code",
      "source": [
        "#@title Download LlaMa weight\n",
        "\n",
        "!pip install -q --upgrade --no-cache-dir gdown\n",
        "%cd /content/icmr2024/\n",
        "!mkdir LLM && cd LLM && mkdir models\n",
        "%cd /content/icmr2024/LLM/models\n",
        "!gdown --fuzzy https://drive.google.com/file/d/1qXur8rs-FLFHJ8I_BdfwuywXP3X0JEhr/view?usp=sharing"
      ],
      "metadata": {
        "colab": {
          "base_uri": "https://localhost:8080/"
        },
        "id": "c83SFjH_bum_",
        "outputId": "e74f85c6-3b11-4f83-9c71-0b7e42d6020a"
      },
      "execution_count": 6,
      "outputs": [
        {
          "output_type": "stream",
          "name": "stdout",
          "text": [
            "/content/icmr2024\n",
            "mkdir: cannot create directory ‘LLM’: File exists\n",
            "/content/icmr2024/LLM/models\n",
            "Downloading...\n",
            "From (original): https://drive.google.com/uc?id=1qXur8rs-FLFHJ8I_BdfwuywXP3X0JEhr\n",
            "From (redirected): https://drive.usercontent.google.com/download?id=1qXur8rs-FLFHJ8I_BdfwuywXP3X0JEhr&confirm=t&uuid=1bcbf3e9-5563-437f-aa59-611f9cc6d462\n",
            "To: /content/icmr2024/LLM/models/mistral-7b-openorca.Q4_0.gguf\n",
            "100% 4.11G/4.11G [01:00<00:00, 67.4MB/s]\n"
          ]
        }
      ]
    },
    {
      "cell_type": "code",
      "source": [
        "#@title Install dependencies\n",
        "\n",
        "!python -m spacy download en_core_web_sm\n",
        "!pip install -q tqdm\n",
        "!pip install -q -U sentence-transformers\n",
        "!pip install -q selenium webdriver_manager\n",
        "!pip install -q llama-cpp-python\n",
        "!pip install -q pyyaml\n",
        "!pip install -q ipdb\n",
        "!pip install -q torch\n",
        "!pip install -q clip diffusers accelerate"
      ],
      "metadata": {
        "id": "93iAwxEbdlqo"
      },
      "execution_count": null,
      "outputs": []
    },
    {
      "cell_type": "code",
      "source": [
        "#@title Pull Detectron2 and GILL repository\n",
        "\n",
        "%cd /content/icmr2024/\n",
        "!git clone https://github.com/kohjingyu/gill.git\n",
        "!git clone https://github.com/facebookresearch/detectron2.git\n",
        "!scp -r /content/icmr2024/detectron2_changes/* /content/icmr2024/detectron2/detectron2"
      ],
      "metadata": {
        "colab": {
          "base_uri": "https://localhost:8080/"
        },
        "id": "ho16qj29bHBE",
        "outputId": "591f05cc-6ef1-4382-bb92-c151a5b435ba"
      },
      "execution_count": 8,
      "outputs": [
        {
          "output_type": "stream",
          "name": "stdout",
          "text": [
            "/content/icmr2024\n",
            "Cloning into 'gill'...\n",
            "remote: Enumerating objects: 244, done.\u001b[K\n",
            "remote: Counting objects: 100% (96/96), done.\u001b[K\n",
            "remote: Compressing objects: 100% (60/60), done.\u001b[K\n",
            "remote: Total 244 (delta 57), reused 54 (delta 36), pack-reused 148\u001b[K\n",
            "Receiving objects: 100% (244/244), 89.90 MiB | 25.15 MiB/s, done.\n",
            "Resolving deltas: 100% (133/133), done.\n",
            "Updating files: 100% (38/38), done.\n",
            "Cloning into 'detectron2'...\n",
            "remote: Enumerating objects: 15508, done.\u001b[K\n",
            "remote: Counting objects: 100% (233/233), done.\u001b[K\n",
            "remote: Compressing objects: 100% (191/191), done.\u001b[K\n",
            "remote: Total 15508 (delta 66), reused 178 (delta 42), pack-reused 15275\u001b[K\n",
            "Receiving objects: 100% (15508/15508), 6.39 MiB | 17.25 MiB/s, done.\n",
            "Resolving deltas: 100% (11181/11181), done.\n"
          ]
        }
      ]
    },
    {
      "cell_type": "code",
      "source": [
        "#@title Install detectron2\n",
        "\n",
        "%cd /content/icme2024/detectron2\n",
        "!pip install -e ./"
      ],
      "metadata": {
        "id": "C9dLMBw6bd90"
      },
      "execution_count": null,
      "outputs": []
    },
    {
      "cell_type": "code",
      "source": [
        "#@title Install GILL\n",
        "\n",
        "%env PYTHONPATH=$PYTHONPATH:/content/icmr2024/gill"
      ],
      "metadata": {
        "id": "Ia5-__lsfA-N"
      },
      "execution_count": null,
      "outputs": []
    },
    {
      "cell_type": "markdown",
      "source": [
        "# Run experiment for Task 1 of Cheapfakes detection"
      ],
      "metadata": {
        "id": "FORQR4J5fPcy"
      }
    },
    {
      "cell_type": "code",
      "source": [
        "%cd /content/icmr2024\n",
        "!python /content/icmr2024/run.py"
      ],
      "metadata": {
        "id": "2deMygsdd2f_"
      },
      "execution_count": null,
      "outputs": []
    }
  ]
}